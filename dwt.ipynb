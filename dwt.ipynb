{
 "cells": [
  {
   "cell_type": "code",
   "execution_count": null,
   "metadata": {},
   "outputs": [],
   "source": []
  },
  {
   "cell_type": "code",
   "execution_count": 6,
   "metadata": {},
   "outputs": [
    {
     "name": "stdout",
     "output_type": "stream",
     "text": [
      "Format: JPEG\n",
      "Size: (800, 533)\n",
      "Mode: RGB\n"
     ]
    }
   ],
   "source": [
    "from PIL import Image\n",
    "\n",
    "def analyze_image(file_path):\n",
    "    with Image.open(file_path) as img:\n",
    "        print(f\"Format: {img.format}\")\n",
    "        print(f\"Size: {img.size}\")\n",
    "        print(f\"Mode: {img.mode}\")\n",
    "\n",
    "analyze_image('D:\\\\FYP\\\\FYP\\\\cat.jpg')"
   ]
  },
  {
   "cell_type": "code",
   "execution_count": 7,
   "metadata": {},
   "outputs": [
    {
     "name": "stdout",
     "output_type": "stream",
     "text": [
      "Format: JPEG\n",
      "Size: (800, 533)\n",
      "Mode: RGB\n"
     ]
    }
   ],
   "source": [
    "from PIL import Image\n",
    "\n",
    "def analyze_image():\n",
    "    file_path = input(\"Please enter the file path: \")\n",
    "    with Image.open(file_path) as img:\n",
    "        print(f\"Format: {img.format}\")\n",
    "        print(f\"Size: {img.size}\")\n",
    "        print(f\"Mode: {img.mode}\")\n",
    "\n",
    "analyze_image()"
   ]
  },
  {
   "cell_type": "code",
   "execution_count": 1,
   "metadata": {},
   "outputs": [
    {
     "name": "stdout",
     "output_type": "stream",
     "text": [
      "Format: PNG\n",
      "Size: (800, 533)\n",
      "Mode: RGB\n"
     ]
    }
   ],
   "source": [
    "from PIL import Image\n",
    "from PIL import ExifTags\n",
    "\n",
    "def analyze_image():\n",
    "    file_path = input(\"Please enter the file path: \")\n",
    "    with Image.open(file_path) as img:\n",
    "        print(f\"Format: {img.format}\")\n",
    "        print(f\"Size: {img.size}\")\n",
    "        print(f\"Mode: {img.mode}\")\n",
    "\n",
    "        exif_data = img._getexif()\n",
    "        if exif_data is not None:\n",
    "            for tag, value in exif_data.items():\n",
    "                tag_name = ExifTags.TAGS.get(tag, tag)\n",
    "                print(f\"{tag_name}: {value}\")\n",
    "\n",
    "analyze_image()"
   ]
  },
  {
   "cell_type": "code",
   "execution_count": null,
   "metadata": {},
   "outputs": [],
   "source": [
    "\n",
    "!"
   ]
  }
 ],
 "metadata": {
  "kernelspec": {
   "display_name": "Python 3",
   "language": "python",
   "name": "python3"
  },
  "language_info": {
   "codemirror_mode": {
    "name": "ipython",
    "version": 3
   },
   "file_extension": ".py",
   "mimetype": "text/x-python",
   "name": "python",
   "nbconvert_exporter": "python",
   "pygments_lexer": "ipython3",
   "version": "3.11.4"
  },
  "orig_nbformat": 4
 },
 "nbformat": 4,
 "nbformat_minor": 2
}
